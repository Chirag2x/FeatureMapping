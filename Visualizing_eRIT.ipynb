{
 "cells": [
  {
   "cell_type": "code",
   "execution_count": 1,
   "id": "2d35945f",
   "metadata": {},
   "outputs": [
    {
     "name": "stderr",
     "output_type": "stream",
     "text": [
      "  0%|▏                                          | 2/419 [00:00<01:03,  6.59it/s]"
     ]
    },
    {
     "name": "stdout",
     "output_type": "stream",
     "text": [
      "Frame 0 written to video\n",
      "Frame 1 written to video\n"
     ]
    },
    {
     "name": "stderr",
     "output_type": "stream",
     "text": [
      "  1%|▍                                          | 4/419 [00:00<01:05,  6.37it/s]"
     ]
    },
    {
     "name": "stdout",
     "output_type": "stream",
     "text": [
      "Frame 2 written to video\n",
      "Frame 3 written to video\n"
     ]
    },
    {
     "name": "stderr",
     "output_type": "stream",
     "text": [
      "  1%|▌                                          | 6/419 [00:00<01:04,  6.43it/s]"
     ]
    },
    {
     "name": "stdout",
     "output_type": "stream",
     "text": [
      "Frame 4 written to video\n",
      "Frame 5 written to video\n"
     ]
    },
    {
     "name": "stderr",
     "output_type": "stream",
     "text": [
      "  2%|▊                                          | 8/419 [00:01<01:00,  6.81it/s]"
     ]
    },
    {
     "name": "stdout",
     "output_type": "stream",
     "text": [
      "Frame 6 written to video\n",
      "Frame 7 written to video\n"
     ]
    },
    {
     "name": "stderr",
     "output_type": "stream",
     "text": [
      "  2%|█                                         | 10/419 [00:01<00:58,  6.97it/s]"
     ]
    },
    {
     "name": "stdout",
     "output_type": "stream",
     "text": [
      "Frame 8 written to video\n",
      "Frame 9 written to video\n"
     ]
    },
    {
     "name": "stderr",
     "output_type": "stream",
     "text": [
      "  3%|█▏                                        | 12/419 [00:01<00:59,  6.79it/s]"
     ]
    },
    {
     "name": "stdout",
     "output_type": "stream",
     "text": [
      "Frame 10 written to video\n",
      "Frame 11 written to video\n"
     ]
    },
    {
     "name": "stderr",
     "output_type": "stream",
     "text": [
      "  3%|█▍                                        | 14/419 [00:02<01:00,  6.70it/s]"
     ]
    },
    {
     "name": "stdout",
     "output_type": "stream",
     "text": [
      "Frame 12 written to video\n",
      "Frame 13 written to video\n"
     ]
    },
    {
     "name": "stderr",
     "output_type": "stream",
     "text": [
      "  4%|█▌                                        | 16/419 [00:02<01:01,  6.58it/s]"
     ]
    },
    {
     "name": "stdout",
     "output_type": "stream",
     "text": [
      "Frame 14 written to video\n",
      "Frame 15 written to video\n"
     ]
    },
    {
     "name": "stderr",
     "output_type": "stream",
     "text": [
      "  4%|█▊                                        | 18/419 [00:02<01:00,  6.58it/s]"
     ]
    },
    {
     "name": "stdout",
     "output_type": "stream",
     "text": [
      "Frame 16 written to video\n",
      "Frame 17 written to video\n"
     ]
    },
    {
     "name": "stderr",
     "output_type": "stream",
     "text": [
      "  5%|██                                        | 20/419 [00:03<01:00,  6.57it/s]"
     ]
    },
    {
     "name": "stdout",
     "output_type": "stream",
     "text": [
      "Frame 18 written to video\n",
      "Frame 19 written to video\n"
     ]
    },
    {
     "name": "stderr",
     "output_type": "stream",
     "text": [
      "  5%|██▏                                       | 22/419 [00:03<00:59,  6.65it/s]"
     ]
    },
    {
     "name": "stdout",
     "output_type": "stream",
     "text": [
      "Frame 20 written to video\n",
      "Frame 21 written to video\n"
     ]
    },
    {
     "name": "stderr",
     "output_type": "stream",
     "text": [
      "  6%|██▍                                       | 24/419 [00:03<00:59,  6.65it/s]"
     ]
    },
    {
     "name": "stdout",
     "output_type": "stream",
     "text": [
      "Frame 22 written to video\n",
      "Frame 23 written to video\n"
     ]
    },
    {
     "name": "stderr",
     "output_type": "stream",
     "text": [
      "  6%|██▌                                       | 26/419 [00:03<00:58,  6.69it/s]"
     ]
    },
    {
     "name": "stdout",
     "output_type": "stream",
     "text": [
      "Frame 24 written to video\n",
      "Frame 25 written to video\n"
     ]
    },
    {
     "name": "stderr",
     "output_type": "stream",
     "text": [
      "  7%|██▊                                       | 28/419 [00:04<00:56,  6.87it/s]"
     ]
    },
    {
     "name": "stdout",
     "output_type": "stream",
     "text": [
      "Frame 26 written to video\n",
      "Frame 27 written to video\n"
     ]
    },
    {
     "name": "stderr",
     "output_type": "stream",
     "text": [
      "  7%|███                                       | 30/419 [00:04<00:57,  6.75it/s]"
     ]
    },
    {
     "name": "stdout",
     "output_type": "stream",
     "text": [
      "Frame 28 written to video\n",
      "Frame 29 written to video\n"
     ]
    },
    {
     "name": "stderr",
     "output_type": "stream",
     "text": [
      "  8%|███▏                                      | 32/419 [00:04<00:58,  6.65it/s]"
     ]
    },
    {
     "name": "stdout",
     "output_type": "stream",
     "text": [
      "Frame 30 written to video\n",
      "Frame 31 written to video\n"
     ]
    },
    {
     "name": "stderr",
     "output_type": "stream",
     "text": [
      "  8%|███▍                                      | 34/419 [00:05<00:57,  6.69it/s]"
     ]
    },
    {
     "name": "stdout",
     "output_type": "stream",
     "text": [
      "Frame 32 written to video\n",
      "Frame 33 written to video\n"
     ]
    },
    {
     "name": "stderr",
     "output_type": "stream",
     "text": [
      "  9%|███▌                                      | 36/419 [00:05<00:56,  6.76it/s]"
     ]
    },
    {
     "name": "stdout",
     "output_type": "stream",
     "text": [
      "Frame 34 written to video\n",
      "Frame 35 written to video\n"
     ]
    },
    {
     "name": "stderr",
     "output_type": "stream",
     "text": [
      "  9%|███▊                                      | 38/419 [00:05<00:56,  6.77it/s]"
     ]
    },
    {
     "name": "stdout",
     "output_type": "stream",
     "text": [
      "Frame 36 written to video\n",
      "Frame 37 written to video\n"
     ]
    },
    {
     "name": "stderr",
     "output_type": "stream",
     "text": [
      " 10%|████                                      | 40/419 [00:05<00:55,  6.82it/s]"
     ]
    },
    {
     "name": "stdout",
     "output_type": "stream",
     "text": [
      "Frame 38 written to video\n",
      "Frame 39 written to video\n"
     ]
    },
    {
     "name": "stderr",
     "output_type": "stream",
     "text": [
      " 10%|████▏                                     | 42/419 [00:06<00:55,  6.79it/s]"
     ]
    },
    {
     "name": "stdout",
     "output_type": "stream",
     "text": [
      "Frame 40 written to video\n",
      "Frame 41 written to video\n"
     ]
    },
    {
     "name": "stderr",
     "output_type": "stream",
     "text": [
      " 11%|████▍                                     | 44/419 [00:06<00:55,  6.80it/s]"
     ]
    },
    {
     "name": "stdout",
     "output_type": "stream",
     "text": [
      "Frame 42 written to video\n",
      "Frame 43 written to video\n"
     ]
    },
    {
     "name": "stderr",
     "output_type": "stream",
     "text": [
      " 11%|████▌                                     | 46/419 [00:06<00:55,  6.77it/s]"
     ]
    },
    {
     "name": "stdout",
     "output_type": "stream",
     "text": [
      "Frame 44 written to video\n",
      "Frame 45 written to video\n"
     ]
    },
    {
     "name": "stderr",
     "output_type": "stream",
     "text": [
      " 11%|████▊                                     | 48/419 [00:07<00:55,  6.73it/s]"
     ]
    },
    {
     "name": "stdout",
     "output_type": "stream",
     "text": [
      "Frame 46 written to video\n",
      "Frame 47 written to video\n"
     ]
    },
    {
     "name": "stderr",
     "output_type": "stream",
     "text": [
      " 12%|█████                                     | 50/419 [00:07<00:54,  6.72it/s]"
     ]
    },
    {
     "name": "stdout",
     "output_type": "stream",
     "text": [
      "Frame 48 written to video\n",
      "Frame 49 written to video\n"
     ]
    },
    {
     "name": "stderr",
     "output_type": "stream",
     "text": [
      " 12%|█████▏                                    | 52/419 [00:07<00:54,  6.77it/s]"
     ]
    },
    {
     "name": "stdout",
     "output_type": "stream",
     "text": [
      "Frame 50 written to video\n",
      "Frame 51 written to video\n"
     ]
    },
    {
     "name": "stderr",
     "output_type": "stream",
     "text": [
      " 13%|█████▍                                    | 54/419 [00:08<00:54,  6.67it/s]"
     ]
    },
    {
     "name": "stdout",
     "output_type": "stream",
     "text": [
      "Frame 52 written to video\n",
      "Frame 53 written to video\n"
     ]
    },
    {
     "name": "stderr",
     "output_type": "stream",
     "text": [
      " 13%|█████▌                                    | 56/419 [00:08<00:54,  6.69it/s]"
     ]
    },
    {
     "name": "stdout",
     "output_type": "stream",
     "text": [
      "Frame 54 written to video\n",
      "Frame 55 written to video\n"
     ]
    },
    {
     "name": "stderr",
     "output_type": "stream",
     "text": [
      " 14%|█████▊                                    | 58/419 [00:08<00:53,  6.73it/s]"
     ]
    },
    {
     "name": "stdout",
     "output_type": "stream",
     "text": [
      "Frame 56 written to video\n",
      "Frame 57 written to video\n"
     ]
    },
    {
     "name": "stderr",
     "output_type": "stream",
     "text": [
      " 14%|██████                                    | 60/419 [00:08<00:53,  6.73it/s]"
     ]
    },
    {
     "name": "stdout",
     "output_type": "stream",
     "text": [
      "Frame 58 written to video\n",
      "Frame 59 written to video\n"
     ]
    },
    {
     "name": "stderr",
     "output_type": "stream",
     "text": [
      " 15%|██████▏                                   | 62/419 [00:09<00:52,  6.77it/s]"
     ]
    },
    {
     "name": "stdout",
     "output_type": "stream",
     "text": [
      "Frame 60 written to video\n",
      "Frame 61 written to video\n"
     ]
    },
    {
     "name": "stderr",
     "output_type": "stream",
     "text": [
      " 15%|██████▍                                   | 64/419 [00:09<00:50,  6.97it/s]"
     ]
    },
    {
     "name": "stdout",
     "output_type": "stream",
     "text": [
      "Frame 62 written to video\n",
      "Frame 63 written to video\n"
     ]
    },
    {
     "name": "stderr",
     "output_type": "stream",
     "text": [
      " 16%|██████▌                                   | 66/419 [00:09<00:51,  6.88it/s]"
     ]
    },
    {
     "name": "stdout",
     "output_type": "stream",
     "text": [
      "Frame 64 written to video\n",
      "Frame 65 written to video\n"
     ]
    },
    {
     "name": "stderr",
     "output_type": "stream",
     "text": [
      " 16%|██████▊                                   | 68/419 [00:10<00:51,  6.76it/s]"
     ]
    },
    {
     "name": "stdout",
     "output_type": "stream",
     "text": [
      "Frame 66 written to video\n",
      "Frame 67 written to video\n"
     ]
    },
    {
     "name": "stderr",
     "output_type": "stream",
     "text": [
      " 17%|███████                                   | 70/419 [00:10<00:51,  6.75it/s]"
     ]
    },
    {
     "name": "stdout",
     "output_type": "stream",
     "text": [
      "Frame 68 written to video\n",
      "Frame 69 written to video\n"
     ]
    },
    {
     "name": "stderr",
     "output_type": "stream",
     "text": [
      " 17%|███████▏                                  | 72/419 [00:10<00:51,  6.76it/s]"
     ]
    },
    {
     "name": "stdout",
     "output_type": "stream",
     "text": [
      "Frame 70 written to video\n",
      "Frame 71 written to video\n"
     ]
    },
    {
     "name": "stderr",
     "output_type": "stream",
     "text": [
      " 18%|███████▍                                  | 74/419 [00:11<00:50,  6.77it/s]"
     ]
    },
    {
     "name": "stdout",
     "output_type": "stream",
     "text": [
      "Frame 72 written to video\n",
      "Frame 73 written to video\n"
     ]
    },
    {
     "name": "stderr",
     "output_type": "stream",
     "text": [
      " 18%|███████▌                                  | 76/419 [00:11<00:50,  6.77it/s]"
     ]
    },
    {
     "name": "stdout",
     "output_type": "stream",
     "text": [
      "Frame 74 written to video\n",
      "Frame 75 written to video\n"
     ]
    },
    {
     "name": "stderr",
     "output_type": "stream",
     "text": [
      " 19%|███████▊                                  | 78/419 [00:11<00:51,  6.67it/s]"
     ]
    },
    {
     "name": "stdout",
     "output_type": "stream",
     "text": [
      "Frame 76 written to video\n",
      "Frame 77 written to video\n"
     ]
    },
    {
     "name": "stderr",
     "output_type": "stream",
     "text": [
      " 19%|████████                                  | 80/419 [00:11<00:51,  6.64it/s]"
     ]
    },
    {
     "name": "stdout",
     "output_type": "stream",
     "text": [
      "Frame 78 written to video\n",
      "Frame 79 written to video\n"
     ]
    },
    {
     "name": "stderr",
     "output_type": "stream",
     "text": [
      " 20%|████████▏                                 | 82/419 [00:12<00:50,  6.73it/s]"
     ]
    },
    {
     "name": "stdout",
     "output_type": "stream",
     "text": [
      "Frame 80 written to video\n",
      "Frame 81 written to video\n"
     ]
    },
    {
     "name": "stderr",
     "output_type": "stream",
     "text": [
      " 20%|████████▍                                 | 84/419 [00:12<00:50,  6.68it/s]"
     ]
    },
    {
     "name": "stdout",
     "output_type": "stream",
     "text": [
      "Frame 82 written to video\n",
      "Frame 83 written to video\n"
     ]
    },
    {
     "name": "stderr",
     "output_type": "stream",
     "text": [
      " 21%|████████▌                                 | 86/419 [00:12<00:49,  6.70it/s]"
     ]
    },
    {
     "name": "stdout",
     "output_type": "stream",
     "text": [
      "Frame 84 written to video\n",
      "Frame 85 written to video\n"
     ]
    },
    {
     "name": "stderr",
     "output_type": "stream",
     "text": [
      " 21%|████████▊                                 | 88/419 [00:13<00:48,  6.85it/s]"
     ]
    },
    {
     "name": "stdout",
     "output_type": "stream",
     "text": [
      "Frame 86 written to video\n",
      "Frame 87 written to video\n"
     ]
    },
    {
     "name": "stderr",
     "output_type": "stream",
     "text": [
      " 21%|█████████                                 | 90/419 [00:13<00:48,  6.72it/s]"
     ]
    },
    {
     "name": "stdout",
     "output_type": "stream",
     "text": [
      "Frame 88 written to video\n",
      "Frame 89 written to video\n"
     ]
    },
    {
     "name": "stderr",
     "output_type": "stream",
     "text": [
      " 22%|█████████▏                                | 92/419 [00:13<00:49,  6.56it/s]"
     ]
    },
    {
     "name": "stdout",
     "output_type": "stream",
     "text": [
      "Frame 90 written to video\n",
      "Frame 91 written to video\n"
     ]
    },
    {
     "name": "stderr",
     "output_type": "stream",
     "text": [
      " 22%|█████████▍                                | 94/419 [00:14<00:49,  6.53it/s]"
     ]
    },
    {
     "name": "stdout",
     "output_type": "stream",
     "text": [
      "Frame 92 written to video\n",
      "Frame 93 written to video\n"
     ]
    },
    {
     "name": "stderr",
     "output_type": "stream",
     "text": [
      " 23%|█████████▌                                | 96/419 [00:14<00:49,  6.53it/s]"
     ]
    },
    {
     "name": "stdout",
     "output_type": "stream",
     "text": [
      "Frame 94 written to video\n",
      "Frame 95 written to video\n"
     ]
    },
    {
     "name": "stderr",
     "output_type": "stream",
     "text": [
      " 23%|█████████▊                                | 98/419 [00:14<00:48,  6.63it/s]"
     ]
    },
    {
     "name": "stdout",
     "output_type": "stream",
     "text": [
      "Frame 96 written to video\n",
      "Frame 97 written to video\n"
     ]
    },
    {
     "name": "stderr",
     "output_type": "stream",
     "text": [
      " 24%|█████████▊                               | 100/419 [00:14<00:47,  6.65it/s]"
     ]
    },
    {
     "name": "stdout",
     "output_type": "stream",
     "text": [
      "Frame 98 written to video\n",
      "Frame 99 written to video\n"
     ]
    },
    {
     "name": "stderr",
     "output_type": "stream",
     "text": [
      " 24%|█████████▉                               | 102/419 [00:15<00:48,  6.60it/s]"
     ]
    },
    {
     "name": "stdout",
     "output_type": "stream",
     "text": [
      "Frame 100 written to video\n",
      "Frame 101 written to video\n"
     ]
    },
    {
     "name": "stderr",
     "output_type": "stream",
     "text": [
      " 25%|██████████▏                              | 104/419 [00:15<00:47,  6.63it/s]"
     ]
    },
    {
     "name": "stdout",
     "output_type": "stream",
     "text": [
      "Frame 102 written to video\n",
      "Frame 103 written to video\n"
     ]
    },
    {
     "name": "stderr",
     "output_type": "stream",
     "text": [
      " 25%|██████████▎                              | 106/419 [00:15<00:47,  6.57it/s]"
     ]
    },
    {
     "name": "stdout",
     "output_type": "stream",
     "text": [
      "Frame 104 written to video\n",
      "Frame 105 written to video\n"
     ]
    },
    {
     "name": "stderr",
     "output_type": "stream",
     "text": [
      " 26%|██████████▌                              | 108/419 [00:16<00:47,  6.59it/s]"
     ]
    },
    {
     "name": "stdout",
     "output_type": "stream",
     "text": [
      "Frame 106 written to video\n",
      "Frame 107 written to video\n"
     ]
    },
    {
     "name": "stderr",
     "output_type": "stream",
     "text": [
      " 26%|██████████▊                              | 110/419 [00:16<00:46,  6.67it/s]"
     ]
    },
    {
     "name": "stdout",
     "output_type": "stream",
     "text": [
      "Frame 108 written to video\n",
      "Frame 109 written to video\n"
     ]
    },
    {
     "name": "stderr",
     "output_type": "stream",
     "text": [
      " 27%|██████████▉                              | 112/419 [00:16<00:45,  6.73it/s]"
     ]
    },
    {
     "name": "stdout",
     "output_type": "stream",
     "text": [
      "Frame 110 written to video\n",
      "Frame 111 written to video\n"
     ]
    },
    {
     "name": "stderr",
     "output_type": "stream",
     "text": [
      " 27%|███████████▏                             | 114/419 [00:17<00:45,  6.71it/s]"
     ]
    },
    {
     "name": "stdout",
     "output_type": "stream",
     "text": [
      "Frame 112 written to video\n",
      "Frame 113 written to video\n"
     ]
    },
    {
     "name": "stderr",
     "output_type": "stream",
     "text": [
      " 28%|███████████▎                             | 116/419 [00:17<00:45,  6.67it/s]"
     ]
    },
    {
     "name": "stdout",
     "output_type": "stream",
     "text": [
      "Frame 114 written to video\n",
      "Frame 115 written to video\n"
     ]
    },
    {
     "name": "stderr",
     "output_type": "stream",
     "text": [
      " 28%|███████████▌                             | 118/419 [00:17<00:45,  6.68it/s]"
     ]
    },
    {
     "name": "stdout",
     "output_type": "stream",
     "text": [
      "Frame 116 written to video\n",
      "Frame 117 written to video\n"
     ]
    },
    {
     "name": "stderr",
     "output_type": "stream",
     "text": [
      " 29%|███████████▋                             | 120/419 [00:17<00:44,  6.68it/s]"
     ]
    },
    {
     "name": "stdout",
     "output_type": "stream",
     "text": [
      "Frame 118 written to video\n",
      "Frame 119 written to video\n"
     ]
    },
    {
     "name": "stderr",
     "output_type": "stream",
     "text": [
      " 29%|███████████▉                             | 122/419 [00:18<00:45,  6.46it/s]"
     ]
    },
    {
     "name": "stdout",
     "output_type": "stream",
     "text": [
      "Frame 120 written to video\n",
      "Frame 121 written to video\n"
     ]
    },
    {
     "name": "stderr",
     "output_type": "stream",
     "text": [
      " 30%|████████████▏                            | 124/419 [00:18<00:44,  6.60it/s]"
     ]
    },
    {
     "name": "stdout",
     "output_type": "stream",
     "text": [
      "Frame 122 written to video\n",
      "Frame 123 written to video\n"
     ]
    },
    {
     "name": "stderr",
     "output_type": "stream",
     "text": [
      " 30%|████████████▎                            | 126/419 [00:18<00:44,  6.61it/s]"
     ]
    },
    {
     "name": "stdout",
     "output_type": "stream",
     "text": [
      "Frame 124 written to video\n",
      "Frame 125 written to video\n"
     ]
    },
    {
     "name": "stderr",
     "output_type": "stream",
     "text": [
      " 31%|████████████▌                            | 128/419 [00:19<00:43,  6.62it/s]"
     ]
    },
    {
     "name": "stdout",
     "output_type": "stream",
     "text": [
      "Frame 126 written to video\n",
      "Frame 127 written to video\n"
     ]
    },
    {
     "name": "stderr",
     "output_type": "stream",
     "text": [
      " 31%|████████████▋                            | 130/419 [00:19<00:43,  6.59it/s]"
     ]
    },
    {
     "name": "stdout",
     "output_type": "stream",
     "text": [
      "Frame 128 written to video\n",
      "Frame 129 written to video\n"
     ]
    },
    {
     "name": "stderr",
     "output_type": "stream",
     "text": [
      " 32%|████████████▉                            | 132/419 [00:19<00:43,  6.61it/s]"
     ]
    },
    {
     "name": "stdout",
     "output_type": "stream",
     "text": [
      "Frame 130 written to video\n",
      "Frame 131 written to video\n"
     ]
    },
    {
     "name": "stderr",
     "output_type": "stream",
     "text": [
      " 32%|█████████████                            | 134/419 [00:20<00:42,  6.71it/s]"
     ]
    },
    {
     "name": "stdout",
     "output_type": "stream",
     "text": [
      "Frame 132 written to video\n",
      "Frame 133 written to video\n"
     ]
    },
    {
     "name": "stderr",
     "output_type": "stream",
     "text": [
      " 32%|█████████████▎                           | 136/419 [00:20<00:42,  6.65it/s]"
     ]
    },
    {
     "name": "stdout",
     "output_type": "stream",
     "text": [
      "Frame 134 written to video\n",
      "Frame 135 written to video\n"
     ]
    },
    {
     "name": "stderr",
     "output_type": "stream",
     "text": [
      " 33%|█████████████▌                           | 138/419 [00:20<00:42,  6.67it/s]"
     ]
    },
    {
     "name": "stdout",
     "output_type": "stream",
     "text": [
      "Frame 136 written to video\n",
      "Frame 137 written to video\n"
     ]
    },
    {
     "name": "stderr",
     "output_type": "stream",
     "text": [
      " 33%|█████████████▋                           | 140/419 [00:20<00:41,  6.67it/s]"
     ]
    },
    {
     "name": "stdout",
     "output_type": "stream",
     "text": [
      "Frame 138 written to video\n",
      "Frame 139 written to video\n"
     ]
    },
    {
     "name": "stderr",
     "output_type": "stream",
     "text": [
      " 34%|█████████████▉                           | 142/419 [00:21<00:41,  6.72it/s]"
     ]
    },
    {
     "name": "stdout",
     "output_type": "stream",
     "text": [
      "Frame 140 written to video\n",
      "Frame 141 written to video\n"
     ]
    },
    {
     "name": "stderr",
     "output_type": "stream",
     "text": [
      " 34%|██████████████                           | 144/419 [00:21<00:41,  6.70it/s]"
     ]
    },
    {
     "name": "stdout",
     "output_type": "stream",
     "text": [
      "Frame 142 written to video\n",
      "Frame 143 written to video\n"
     ]
    },
    {
     "name": "stderr",
     "output_type": "stream",
     "text": [
      " 35%|██████████████▎                          | 146/419 [00:21<00:40,  6.73it/s]"
     ]
    },
    {
     "name": "stdout",
     "output_type": "stream",
     "text": [
      "Frame 144 written to video\n",
      "Frame 145 written to video\n"
     ]
    },
    {
     "name": "stderr",
     "output_type": "stream",
     "text": [
      " 35%|██████████████▍                          | 148/419 [00:22<00:40,  6.75it/s]"
     ]
    },
    {
     "name": "stdout",
     "output_type": "stream",
     "text": [
      "Frame 146 written to video\n",
      "Frame 147 written to video\n"
     ]
    },
    {
     "name": "stderr",
     "output_type": "stream",
     "text": [
      " 36%|██████████████▋                          | 150/419 [00:22<00:40,  6.70it/s]"
     ]
    },
    {
     "name": "stdout",
     "output_type": "stream",
     "text": [
      "Frame 148 written to video\n",
      "Frame 149 written to video\n"
     ]
    },
    {
     "name": "stderr",
     "output_type": "stream",
     "text": [
      " 36%|██████████████▊                          | 152/419 [00:22<00:39,  6.74it/s]"
     ]
    },
    {
     "name": "stdout",
     "output_type": "stream",
     "text": [
      "Frame 150 written to video\n",
      "Frame 151 written to video\n"
     ]
    },
    {
     "name": "stderr",
     "output_type": "stream",
     "text": [
      " 37%|███████████████                          | 154/419 [00:23<00:39,  6.68it/s]"
     ]
    },
    {
     "name": "stdout",
     "output_type": "stream",
     "text": [
      "Frame 152 written to video\n",
      "Frame 153 written to video\n"
     ]
    },
    {
     "name": "stderr",
     "output_type": "stream",
     "text": [
      " 37%|███████████████▎                         | 156/419 [00:23<00:39,  6.68it/s]"
     ]
    },
    {
     "name": "stdout",
     "output_type": "stream",
     "text": [
      "Frame 154 written to video\n",
      "Frame 155 written to video\n"
     ]
    },
    {
     "name": "stderr",
     "output_type": "stream",
     "text": [
      " 38%|███████████████▍                         | 158/419 [00:23<00:38,  6.75it/s]"
     ]
    },
    {
     "name": "stdout",
     "output_type": "stream",
     "text": [
      "Frame 156 written to video\n",
      "Frame 157 written to video\n"
     ]
    },
    {
     "name": "stderr",
     "output_type": "stream",
     "text": [
      " 38%|███████████████▋                         | 160/419 [00:23<00:38,  6.73it/s]"
     ]
    },
    {
     "name": "stdout",
     "output_type": "stream",
     "text": [
      "Frame 158 written to video\n",
      "Frame 159 written to video\n"
     ]
    },
    {
     "name": "stderr",
     "output_type": "stream",
     "text": [
      " 39%|███████████████▊                         | 162/419 [00:24<00:38,  6.71it/s]"
     ]
    },
    {
     "name": "stdout",
     "output_type": "stream",
     "text": [
      "Frame 160 written to video\n",
      "Frame 161 written to video\n"
     ]
    },
    {
     "name": "stderr",
     "output_type": "stream",
     "text": [
      " 39%|████████████████                         | 164/419 [00:24<00:38,  6.70it/s]"
     ]
    },
    {
     "name": "stdout",
     "output_type": "stream",
     "text": [
      "Frame 162 written to video\n",
      "Frame 163 written to video\n"
     ]
    },
    {
     "name": "stderr",
     "output_type": "stream",
     "text": [
      " 40%|████████████████▏                        | 166/419 [00:24<00:37,  6.66it/s]"
     ]
    },
    {
     "name": "stdout",
     "output_type": "stream",
     "text": [
      "Frame 164 written to video\n",
      "Frame 165 written to video\n"
     ]
    },
    {
     "name": "stderr",
     "output_type": "stream",
     "text": [
      " 40%|████████████████▍                        | 168/419 [00:25<00:37,  6.64it/s]"
     ]
    },
    {
     "name": "stdout",
     "output_type": "stream",
     "text": [
      "Frame 166 written to video\n",
      "Frame 167 written to video\n"
     ]
    },
    {
     "name": "stderr",
     "output_type": "stream",
     "text": [
      " 41%|████████████████▋                        | 170/419 [00:25<00:36,  6.79it/s]"
     ]
    },
    {
     "name": "stdout",
     "output_type": "stream",
     "text": [
      "Frame 168 written to video\n",
      "Frame 169 written to video\n"
     ]
    },
    {
     "name": "stderr",
     "output_type": "stream",
     "text": [
      " 41%|████████████████▊                        | 172/419 [00:25<00:36,  6.75it/s]"
     ]
    },
    {
     "name": "stdout",
     "output_type": "stream",
     "text": [
      "Frame 170 written to video\n",
      "Frame 171 written to video\n"
     ]
    },
    {
     "name": "stderr",
     "output_type": "stream",
     "text": [
      " 42%|█████████████████                        | 174/419 [00:26<00:36,  6.73it/s]"
     ]
    },
    {
     "name": "stdout",
     "output_type": "stream",
     "text": [
      "Frame 172 written to video\n",
      "Frame 173 written to video\n"
     ]
    },
    {
     "name": "stderr",
     "output_type": "stream",
     "text": [
      " 42%|█████████████████▏                       | 176/419 [00:26<00:35,  6.76it/s]"
     ]
    },
    {
     "name": "stdout",
     "output_type": "stream",
     "text": [
      "Frame 174 written to video\n",
      "Frame 175 written to video\n"
     ]
    },
    {
     "name": "stderr",
     "output_type": "stream",
     "text": [
      " 42%|█████████████████▍                       | 178/419 [00:26<00:35,  6.71it/s]"
     ]
    },
    {
     "name": "stdout",
     "output_type": "stream",
     "text": [
      "Frame 176 written to video\n",
      "Frame 177 written to video\n"
     ]
    },
    {
     "name": "stderr",
     "output_type": "stream",
     "text": [
      " 43%|█████████████████▌                       | 180/419 [00:26<00:35,  6.69it/s]"
     ]
    },
    {
     "name": "stdout",
     "output_type": "stream",
     "text": [
      "Frame 178 written to video\n",
      "Frame 179 written to video\n"
     ]
    },
    {
     "name": "stderr",
     "output_type": "stream",
     "text": [
      " 43%|█████████████████▊                       | 182/419 [00:27<00:34,  6.80it/s]"
     ]
    },
    {
     "name": "stdout",
     "output_type": "stream",
     "text": [
      "Frame 180 written to video\n",
      "Frame 181 written to video\n"
     ]
    },
    {
     "name": "stderr",
     "output_type": "stream",
     "text": [
      " 44%|██████████████████                       | 184/419 [00:27<00:34,  6.75it/s]"
     ]
    },
    {
     "name": "stdout",
     "output_type": "stream",
     "text": [
      "Frame 182 written to video\n",
      "Frame 183 written to video\n"
     ]
    },
    {
     "name": "stderr",
     "output_type": "stream",
     "text": [
      " 44%|██████████████████▏                      | 186/419 [00:27<00:34,  6.70it/s]"
     ]
    },
    {
     "name": "stdout",
     "output_type": "stream",
     "text": [
      "Frame 184 written to video\n",
      "Frame 185 written to video\n"
     ]
    },
    {
     "name": "stderr",
     "output_type": "stream",
     "text": [
      " 45%|██████████████████▍                      | 188/419 [00:28<00:34,  6.76it/s]"
     ]
    },
    {
     "name": "stdout",
     "output_type": "stream",
     "text": [
      "Frame 186 written to video\n",
      "Frame 187 written to video\n"
     ]
    },
    {
     "name": "stderr",
     "output_type": "stream",
     "text": [
      " 45%|██████████████████▌                      | 190/419 [00:28<00:33,  6.75it/s]"
     ]
    },
    {
     "name": "stdout",
     "output_type": "stream",
     "text": [
      "Frame 188 written to video\n",
      "Frame 189 written to video\n"
     ]
    },
    {
     "name": "stderr",
     "output_type": "stream",
     "text": [
      " 46%|██████████████████▊                      | 192/419 [00:28<00:33,  6.81it/s]"
     ]
    },
    {
     "name": "stdout",
     "output_type": "stream",
     "text": [
      "Frame 190 written to video\n",
      "Frame 191 written to video\n"
     ]
    },
    {
     "name": "stderr",
     "output_type": "stream",
     "text": [
      " 46%|██████████████████▉                      | 194/419 [00:28<00:32,  6.83it/s]"
     ]
    },
    {
     "name": "stdout",
     "output_type": "stream",
     "text": [
      "Frame 192 written to video\n",
      "Frame 193 written to video\n"
     ]
    },
    {
     "name": "stderr",
     "output_type": "stream",
     "text": [
      " 47%|███████████████████▏                     | 196/419 [00:29<00:33,  6.74it/s]"
     ]
    },
    {
     "name": "stdout",
     "output_type": "stream",
     "text": [
      "Frame 194 written to video\n",
      "Frame 195 written to video\n"
     ]
    },
    {
     "name": "stderr",
     "output_type": "stream",
     "text": [
      " 47%|███████████████████▎                     | 198/419 [00:29<00:32,  6.75it/s]"
     ]
    },
    {
     "name": "stdout",
     "output_type": "stream",
     "text": [
      "Frame 196 written to video\n",
      "Frame 197 written to video\n"
     ]
    },
    {
     "name": "stderr",
     "output_type": "stream",
     "text": [
      " 48%|███████████████████▌                     | 200/419 [00:29<00:32,  6.78it/s]"
     ]
    },
    {
     "name": "stdout",
     "output_type": "stream",
     "text": [
      "Frame 198 written to video\n",
      "Frame 199 written to video\n"
     ]
    },
    {
     "name": "stderr",
     "output_type": "stream",
     "text": [
      " 48%|███████████████████▊                     | 202/419 [00:30<00:32,  6.70it/s]"
     ]
    },
    {
     "name": "stdout",
     "output_type": "stream",
     "text": [
      "Frame 200 written to video\n",
      "Frame 201 written to video\n"
     ]
    },
    {
     "name": "stderr",
     "output_type": "stream",
     "text": [
      " 49%|███████████████████▉                     | 204/419 [00:30<00:32,  6.69it/s]"
     ]
    },
    {
     "name": "stdout",
     "output_type": "stream",
     "text": [
      "Frame 202 written to video\n",
      "Frame 203 written to video\n"
     ]
    },
    {
     "name": "stderr",
     "output_type": "stream",
     "text": [
      " 49%|████████████████████▏                    | 206/419 [00:30<00:31,  6.78it/s]"
     ]
    },
    {
     "name": "stdout",
     "output_type": "stream",
     "text": [
      "Frame 204 written to video\n",
      "Frame 205 written to video\n"
     ]
    },
    {
     "name": "stderr",
     "output_type": "stream",
     "text": [
      " 50%|████████████████████▎                    | 208/419 [00:31<00:30,  6.86it/s]"
     ]
    },
    {
     "name": "stdout",
     "output_type": "stream",
     "text": [
      "Frame 206 written to video\n",
      "Frame 207 written to video\n"
     ]
    },
    {
     "name": "stderr",
     "output_type": "stream",
     "text": [
      " 50%|████████████████████▌                    | 210/419 [00:31<00:30,  6.78it/s]"
     ]
    },
    {
     "name": "stdout",
     "output_type": "stream",
     "text": [
      "Frame 208 written to video\n",
      "Frame 209 written to video\n"
     ]
    },
    {
     "name": "stderr",
     "output_type": "stream",
     "text": [
      " 51%|████████████████████▋                    | 212/419 [00:31<00:30,  6.71it/s]"
     ]
    },
    {
     "name": "stdout",
     "output_type": "stream",
     "text": [
      "Frame 210 written to video\n",
      "Frame 211 written to video\n"
     ]
    },
    {
     "name": "stderr",
     "output_type": "stream",
     "text": [
      " 51%|████████████████████▉                    | 214/419 [00:31<00:30,  6.69it/s]"
     ]
    },
    {
     "name": "stdout",
     "output_type": "stream",
     "text": [
      "Frame 212 written to video\n",
      "Frame 213 written to video\n"
     ]
    },
    {
     "name": "stderr",
     "output_type": "stream",
     "text": [
      " 52%|█████████████████████▏                   | 216/419 [00:32<00:30,  6.72it/s]"
     ]
    },
    {
     "name": "stdout",
     "output_type": "stream",
     "text": [
      "Frame 214 written to video\n",
      "Frame 215 written to video\n"
     ]
    },
    {
     "name": "stderr",
     "output_type": "stream",
     "text": [
      " 52%|█████████████████████▎                   | 218/419 [00:32<00:29,  6.79it/s]"
     ]
    },
    {
     "name": "stdout",
     "output_type": "stream",
     "text": [
      "Frame 216 written to video\n",
      "Frame 217 written to video\n"
     ]
    },
    {
     "name": "stderr",
     "output_type": "stream",
     "text": [
      " 53%|█████████████████████▌                   | 220/419 [00:32<00:29,  6.80it/s]"
     ]
    },
    {
     "name": "stdout",
     "output_type": "stream",
     "text": [
      "Frame 218 written to video\n",
      "Frame 219 written to video\n"
     ]
    },
    {
     "name": "stderr",
     "output_type": "stream",
     "text": [
      " 53%|█████████████████████▋                   | 222/419 [00:33<00:29,  6.71it/s]"
     ]
    },
    {
     "name": "stdout",
     "output_type": "stream",
     "text": [
      "Frame 220 written to video\n",
      "Frame 221 written to video\n"
     ]
    },
    {
     "name": "stderr",
     "output_type": "stream",
     "text": [
      " 53%|█████████████████████▉                   | 224/419 [00:33<00:28,  6.77it/s]"
     ]
    },
    {
     "name": "stdout",
     "output_type": "stream",
     "text": [
      "Frame 222 written to video\n",
      "Frame 223 written to video\n"
     ]
    },
    {
     "name": "stderr",
     "output_type": "stream",
     "text": [
      " 54%|██████████████████████                   | 226/419 [00:33<00:28,  6.68it/s]"
     ]
    },
    {
     "name": "stdout",
     "output_type": "stream",
     "text": [
      "Frame 224 written to video\n",
      "Frame 225 written to video\n"
     ]
    },
    {
     "name": "stderr",
     "output_type": "stream",
     "text": [
      " 54%|██████████████████████▎                  | 228/419 [00:34<00:28,  6.72it/s]"
     ]
    },
    {
     "name": "stdout",
     "output_type": "stream",
     "text": [
      "Frame 226 written to video\n",
      "Frame 227 written to video\n"
     ]
    },
    {
     "name": "stderr",
     "output_type": "stream",
     "text": [
      " 55%|██████████████████████▌                  | 230/419 [00:34<00:29,  6.47it/s]"
     ]
    },
    {
     "name": "stdout",
     "output_type": "stream",
     "text": [
      "Frame 228 written to video\n",
      "Frame 229 written to video\n"
     ]
    },
    {
     "name": "stderr",
     "output_type": "stream",
     "text": [
      " 55%|██████████████████████▋                  | 232/419 [00:34<00:28,  6.57it/s]"
     ]
    },
    {
     "name": "stdout",
     "output_type": "stream",
     "text": [
      "Frame 230 written to video\n",
      "Frame 231 written to video\n"
     ]
    },
    {
     "name": "stderr",
     "output_type": "stream",
     "text": [
      " 56%|██████████████████████▉                  | 234/419 [00:34<00:28,  6.61it/s]"
     ]
    },
    {
     "name": "stdout",
     "output_type": "stream",
     "text": [
      "Frame 232 written to video\n",
      "Frame 233 written to video\n"
     ]
    },
    {
     "name": "stderr",
     "output_type": "stream",
     "text": [
      " 56%|███████████████████████                  | 236/419 [00:35<00:27,  6.66it/s]"
     ]
    },
    {
     "name": "stdout",
     "output_type": "stream",
     "text": [
      "Frame 234 written to video\n",
      "Frame 235 written to video\n"
     ]
    },
    {
     "name": "stderr",
     "output_type": "stream",
     "text": [
      " 57%|███████████████████████▎                 | 238/419 [00:35<00:27,  6.67it/s]"
     ]
    },
    {
     "name": "stdout",
     "output_type": "stream",
     "text": [
      "Frame 236 written to video\n",
      "Frame 237 written to video\n"
     ]
    },
    {
     "name": "stderr",
     "output_type": "stream",
     "text": [
      " 57%|███████████████████████▍                 | 240/419 [00:35<00:26,  6.68it/s]"
     ]
    },
    {
     "name": "stdout",
     "output_type": "stream",
     "text": [
      "Frame 238 written to video\n",
      "Frame 239 written to video\n"
     ]
    },
    {
     "name": "stderr",
     "output_type": "stream",
     "text": [
      " 58%|███████████████████████▋                 | 242/419 [00:36<00:26,  6.68it/s]"
     ]
    },
    {
     "name": "stdout",
     "output_type": "stream",
     "text": [
      "Frame 240 written to video\n",
      "Frame 241 written to video\n"
     ]
    },
    {
     "name": "stderr",
     "output_type": "stream",
     "text": [
      " 58%|███████████████████████▉                 | 244/419 [00:36<00:26,  6.64it/s]"
     ]
    },
    {
     "name": "stdout",
     "output_type": "stream",
     "text": [
      "Frame 242 written to video\n",
      "Frame 243 written to video\n"
     ]
    },
    {
     "name": "stderr",
     "output_type": "stream",
     "text": [
      " 59%|████████████████████████                 | 246/419 [00:36<00:25,  6.67it/s]"
     ]
    },
    {
     "name": "stdout",
     "output_type": "stream",
     "text": [
      "Frame 244 written to video\n",
      "Frame 245 written to video\n"
     ]
    },
    {
     "name": "stderr",
     "output_type": "stream",
     "text": [
      " 59%|████████████████████████▎                | 248/419 [00:37<00:25,  6.65it/s]"
     ]
    },
    {
     "name": "stdout",
     "output_type": "stream",
     "text": [
      "Frame 246 written to video\n",
      "Frame 247 written to video\n"
     ]
    },
    {
     "name": "stderr",
     "output_type": "stream",
     "text": [
      " 60%|████████████████████████▍                | 250/419 [00:37<00:25,  6.69it/s]"
     ]
    },
    {
     "name": "stdout",
     "output_type": "stream",
     "text": [
      "Frame 248 written to video\n",
      "Frame 249 written to video\n"
     ]
    },
    {
     "name": "stderr",
     "output_type": "stream",
     "text": [
      " 60%|████████████████████████▋                | 252/419 [00:37<00:25,  6.66it/s]"
     ]
    },
    {
     "name": "stdout",
     "output_type": "stream",
     "text": [
      "Frame 250 written to video\n",
      "Frame 251 written to video\n"
     ]
    },
    {
     "name": "stderr",
     "output_type": "stream",
     "text": [
      " 61%|████████████████████████▊                | 254/419 [00:37<00:24,  6.73it/s]"
     ]
    },
    {
     "name": "stdout",
     "output_type": "stream",
     "text": [
      "Frame 252 written to video\n",
      "Frame 253 written to video\n"
     ]
    },
    {
     "name": "stderr",
     "output_type": "stream",
     "text": [
      " 61%|█████████████████████████                | 256/419 [00:38<00:24,  6.77it/s]"
     ]
    },
    {
     "name": "stdout",
     "output_type": "stream",
     "text": [
      "Frame 254 written to video\n",
      "Frame 255 written to video\n"
     ]
    },
    {
     "name": "stderr",
     "output_type": "stream",
     "text": [
      " 62%|█████████████████████████▏               | 258/419 [00:38<00:24,  6.70it/s]"
     ]
    },
    {
     "name": "stdout",
     "output_type": "stream",
     "text": [
      "Frame 256 written to video\n",
      "Frame 257 written to video\n"
     ]
    },
    {
     "name": "stderr",
     "output_type": "stream",
     "text": [
      " 62%|█████████████████████████▍               | 260/419 [00:38<00:23,  6.67it/s]"
     ]
    },
    {
     "name": "stdout",
     "output_type": "stream",
     "text": [
      "Frame 258 written to video\n",
      "Frame 259 written to video\n"
     ]
    },
    {
     "name": "stderr",
     "output_type": "stream",
     "text": [
      " 63%|█████████████████████████▋               | 262/419 [00:39<00:23,  6.69it/s]"
     ]
    },
    {
     "name": "stdout",
     "output_type": "stream",
     "text": [
      "Frame 260 written to video\n",
      "Frame 261 written to video\n"
     ]
    },
    {
     "name": "stderr",
     "output_type": "stream",
     "text": [
      " 63%|█████████████████████████▊               | 264/419 [00:39<00:23,  6.72it/s]"
     ]
    },
    {
     "name": "stdout",
     "output_type": "stream",
     "text": [
      "Frame 262 written to video\n",
      "Frame 263 written to video\n"
     ]
    },
    {
     "name": "stderr",
     "output_type": "stream",
     "text": [
      " 63%|██████████████████████████               | 266/419 [00:39<00:22,  6.75it/s]"
     ]
    },
    {
     "name": "stdout",
     "output_type": "stream",
     "text": [
      "Frame 264 written to video\n",
      "Frame 265 written to video\n"
     ]
    },
    {
     "name": "stderr",
     "output_type": "stream",
     "text": [
      " 64%|██████████████████████████▏              | 268/419 [00:40<00:22,  6.76it/s]"
     ]
    },
    {
     "name": "stdout",
     "output_type": "stream",
     "text": [
      "Frame 266 written to video\n",
      "Frame 267 written to video\n"
     ]
    },
    {
     "name": "stderr",
     "output_type": "stream",
     "text": [
      " 64%|██████████████████████████▍              | 270/419 [00:40<00:22,  6.63it/s]"
     ]
    },
    {
     "name": "stdout",
     "output_type": "stream",
     "text": [
      "Frame 268 written to video\n",
      "Frame 269 written to video\n"
     ]
    },
    {
     "name": "stderr",
     "output_type": "stream",
     "text": [
      " 65%|██████████████████████████▌              | 272/419 [00:40<00:21,  6.69it/s]"
     ]
    },
    {
     "name": "stdout",
     "output_type": "stream",
     "text": [
      "Frame 270 written to video\n",
      "Frame 271 written to video\n"
     ]
    },
    {
     "name": "stderr",
     "output_type": "stream",
     "text": [
      " 65%|██████████████████████████▊              | 274/419 [00:40<00:21,  6.71it/s]"
     ]
    },
    {
     "name": "stdout",
     "output_type": "stream",
     "text": [
      "Frame 272 written to video\n",
      "Frame 273 written to video\n"
     ]
    },
    {
     "name": "stderr",
     "output_type": "stream",
     "text": [
      " 66%|███████████████████████████              | 276/419 [00:41<00:21,  6.76it/s]"
     ]
    },
    {
     "name": "stdout",
     "output_type": "stream",
     "text": [
      "Frame 274 written to video\n",
      "Frame 275 written to video\n"
     ]
    },
    {
     "name": "stderr",
     "output_type": "stream",
     "text": [
      " 66%|███████████████████████████▏             | 278/419 [00:41<00:20,  6.76it/s]"
     ]
    },
    {
     "name": "stdout",
     "output_type": "stream",
     "text": [
      "Frame 276 written to video\n",
      "Frame 277 written to video\n"
     ]
    },
    {
     "name": "stderr",
     "output_type": "stream",
     "text": [
      " 67%|███████████████████████████▍             | 280/419 [00:41<00:20,  6.74it/s]"
     ]
    },
    {
     "name": "stdout",
     "output_type": "stream",
     "text": [
      "Frame 278 written to video\n",
      "Frame 279 written to video\n"
     ]
    },
    {
     "name": "stderr",
     "output_type": "stream",
     "text": [
      " 67%|███████████████████████████▌             | 282/419 [00:42<00:20,  6.75it/s]"
     ]
    },
    {
     "name": "stdout",
     "output_type": "stream",
     "text": [
      "Frame 280 written to video\n",
      "Frame 281 written to video\n"
     ]
    },
    {
     "name": "stderr",
     "output_type": "stream",
     "text": [
      " 68%|███████████████████████████▊             | 284/419 [00:42<00:20,  6.64it/s]"
     ]
    },
    {
     "name": "stdout",
     "output_type": "stream",
     "text": [
      "Frame 282 written to video\n",
      "Frame 283 written to video\n"
     ]
    },
    {
     "name": "stderr",
     "output_type": "stream",
     "text": [
      " 68%|███████████████████████████▉             | 286/419 [00:42<00:19,  6.69it/s]"
     ]
    },
    {
     "name": "stdout",
     "output_type": "stream",
     "text": [
      "Frame 284 written to video\n",
      "Frame 285 written to video\n"
     ]
    },
    {
     "name": "stderr",
     "output_type": "stream",
     "text": [
      " 69%|████████████████████████████▏            | 288/419 [00:42<00:19,  6.69it/s]"
     ]
    },
    {
     "name": "stdout",
     "output_type": "stream",
     "text": [
      "Frame 286 written to video\n",
      "Frame 287 written to video\n"
     ]
    },
    {
     "name": "stderr",
     "output_type": "stream",
     "text": [
      " 69%|████████████████████████████▍            | 290/419 [00:43<00:19,  6.78it/s]"
     ]
    },
    {
     "name": "stdout",
     "output_type": "stream",
     "text": [
      "Frame 288 written to video\n",
      "Frame 289 written to video\n"
     ]
    },
    {
     "name": "stderr",
     "output_type": "stream",
     "text": [
      " 70%|████████████████████████████▌            | 292/419 [00:43<00:18,  6.74it/s]"
     ]
    },
    {
     "name": "stdout",
     "output_type": "stream",
     "text": [
      "Frame 290 written to video\n",
      "Frame 291 written to video\n"
     ]
    },
    {
     "name": "stderr",
     "output_type": "stream",
     "text": [
      " 70%|████████████████████████████▊            | 294/419 [00:43<00:18,  6.69it/s]"
     ]
    },
    {
     "name": "stdout",
     "output_type": "stream",
     "text": [
      "Frame 292 written to video\n",
      "Frame 293 written to video\n"
     ]
    },
    {
     "name": "stderr",
     "output_type": "stream",
     "text": [
      " 71%|████████████████████████████▉            | 296/419 [00:44<00:18,  6.71it/s]"
     ]
    },
    {
     "name": "stdout",
     "output_type": "stream",
     "text": [
      "Frame 294 written to video\n",
      "Frame 295 written to video\n"
     ]
    },
    {
     "name": "stderr",
     "output_type": "stream",
     "text": [
      " 71%|█████████████████████████████▏           | 298/419 [00:44<00:18,  6.67it/s]"
     ]
    },
    {
     "name": "stdout",
     "output_type": "stream",
     "text": [
      "Frame 296 written to video\n",
      "Frame 297 written to video\n"
     ]
    },
    {
     "name": "stderr",
     "output_type": "stream",
     "text": [
      " 72%|█████████████████████████████▎           | 300/419 [00:44<00:18,  6.61it/s]"
     ]
    },
    {
     "name": "stdout",
     "output_type": "stream",
     "text": [
      "Frame 298 written to video\n",
      "Frame 299 written to video\n"
     ]
    },
    {
     "name": "stderr",
     "output_type": "stream",
     "text": [
      " 72%|█████████████████████████████▌           | 302/419 [00:45<00:17,  6.63it/s]"
     ]
    },
    {
     "name": "stdout",
     "output_type": "stream",
     "text": [
      "Frame 300 written to video\n",
      "Frame 301 written to video\n"
     ]
    },
    {
     "name": "stderr",
     "output_type": "stream",
     "text": [
      " 73%|█████████████████████████████▋           | 304/419 [00:45<00:16,  6.80it/s]"
     ]
    },
    {
     "name": "stdout",
     "output_type": "stream",
     "text": [
      "Frame 302 written to video\n",
      "Frame 303 written to video\n"
     ]
    },
    {
     "name": "stderr",
     "output_type": "stream",
     "text": [
      " 73%|█████████████████████████████▉           | 306/419 [00:45<00:16,  6.77it/s]"
     ]
    },
    {
     "name": "stdout",
     "output_type": "stream",
     "text": [
      "Frame 304 written to video\n",
      "Frame 305 written to video\n"
     ]
    },
    {
     "name": "stderr",
     "output_type": "stream",
     "text": [
      " 74%|██████████████████████████████▏          | 308/419 [00:45<00:16,  6.66it/s]"
     ]
    },
    {
     "name": "stdout",
     "output_type": "stream",
     "text": [
      "Frame 306 written to video\n",
      "Frame 307 written to video\n"
     ]
    },
    {
     "name": "stderr",
     "output_type": "stream",
     "text": [
      " 74%|██████████████████████████████▎          | 310/419 [00:46<00:16,  6.67it/s]"
     ]
    },
    {
     "name": "stdout",
     "output_type": "stream",
     "text": [
      "Frame 308 written to video\n",
      "Frame 309 written to video\n"
     ]
    },
    {
     "name": "stderr",
     "output_type": "stream",
     "text": [
      " 74%|██████████████████████████████▌          | 312/419 [00:46<00:16,  6.59it/s]"
     ]
    },
    {
     "name": "stdout",
     "output_type": "stream",
     "text": [
      "Frame 310 written to video\n",
      "Frame 311 written to video\n"
     ]
    },
    {
     "name": "stderr",
     "output_type": "stream",
     "text": [
      " 75%|██████████████████████████████▋          | 314/419 [00:46<00:15,  6.73it/s]"
     ]
    },
    {
     "name": "stdout",
     "output_type": "stream",
     "text": [
      "Frame 312 written to video\n",
      "Frame 313 written to video\n"
     ]
    },
    {
     "name": "stderr",
     "output_type": "stream",
     "text": [
      " 75%|██████████████████████████████▉          | 316/419 [00:47<00:15,  6.77it/s]"
     ]
    },
    {
     "name": "stdout",
     "output_type": "stream",
     "text": [
      "Frame 314 written to video\n",
      "Frame 315 written to video\n"
     ]
    },
    {
     "name": "stderr",
     "output_type": "stream",
     "text": [
      " 76%|███████████████████████████████          | 318/419 [00:47<00:15,  6.69it/s]"
     ]
    },
    {
     "name": "stdout",
     "output_type": "stream",
     "text": [
      "Frame 316 written to video\n",
      "Frame 317 written to video\n"
     ]
    },
    {
     "name": "stderr",
     "output_type": "stream",
     "text": [
      " 76%|███████████████████████████████▎         | 320/419 [00:47<00:14,  6.67it/s]"
     ]
    },
    {
     "name": "stdout",
     "output_type": "stream",
     "text": [
      "Frame 318 written to video\n",
      "Frame 319 written to video\n"
     ]
    },
    {
     "name": "stderr",
     "output_type": "stream",
     "text": [
      " 77%|███████████████████████████████▌         | 322/419 [00:48<00:14,  6.66it/s]"
     ]
    },
    {
     "name": "stdout",
     "output_type": "stream",
     "text": [
      "Frame 320 written to video\n",
      "Frame 321 written to video\n"
     ]
    },
    {
     "name": "stderr",
     "output_type": "stream",
     "text": [
      " 77%|███████████████████████████████▋         | 324/419 [00:48<00:14,  6.41it/s]"
     ]
    },
    {
     "name": "stdout",
     "output_type": "stream",
     "text": [
      "Frame 322 written to video\n",
      "Frame 323 written to video\n"
     ]
    },
    {
     "name": "stderr",
     "output_type": "stream",
     "text": [
      " 78%|███████████████████████████████▉         | 326/419 [00:48<00:14,  6.58it/s]"
     ]
    },
    {
     "name": "stdout",
     "output_type": "stream",
     "text": [
      "Frame 324 written to video\n",
      "Frame 325 written to video\n"
     ]
    },
    {
     "name": "stderr",
     "output_type": "stream",
     "text": [
      " 78%|████████████████████████████████         | 328/419 [00:48<00:13,  6.75it/s]"
     ]
    },
    {
     "name": "stdout",
     "output_type": "stream",
     "text": [
      "Frame 326 written to video\n",
      "Frame 327 written to video\n"
     ]
    },
    {
     "name": "stderr",
     "output_type": "stream",
     "text": [
      " 79%|████████████████████████████████▎        | 330/419 [00:49<00:13,  6.67it/s]"
     ]
    },
    {
     "name": "stdout",
     "output_type": "stream",
     "text": [
      "Frame 328 written to video\n",
      "Frame 329 written to video\n"
     ]
    },
    {
     "name": "stderr",
     "output_type": "stream",
     "text": [
      " 79%|████████████████████████████████▍        | 332/419 [00:49<00:13,  6.58it/s]"
     ]
    },
    {
     "name": "stdout",
     "output_type": "stream",
     "text": [
      "Frame 330 written to video\n",
      "Frame 331 written to video\n"
     ]
    },
    {
     "name": "stderr",
     "output_type": "stream",
     "text": [
      " 80%|████████████████████████████████▋        | 334/419 [00:49<00:12,  6.67it/s]"
     ]
    },
    {
     "name": "stdout",
     "output_type": "stream",
     "text": [
      "Frame 332 written to video\n",
      "Frame 333 written to video\n"
     ]
    },
    {
     "name": "stderr",
     "output_type": "stream",
     "text": [
      " 80%|████████████████████████████████▉        | 336/419 [00:50<00:12,  6.70it/s]"
     ]
    },
    {
     "name": "stdout",
     "output_type": "stream",
     "text": [
      "Frame 334 written to video\n",
      "Frame 335 written to video\n"
     ]
    },
    {
     "name": "stderr",
     "output_type": "stream",
     "text": [
      " 81%|█████████████████████████████████        | 338/419 [00:50<00:11,  6.78it/s]"
     ]
    },
    {
     "name": "stdout",
     "output_type": "stream",
     "text": [
      "Frame 336 written to video\n",
      "Frame 337 written to video\n"
     ]
    },
    {
     "name": "stderr",
     "output_type": "stream",
     "text": [
      " 81%|█████████████████████████████████▎       | 340/419 [00:50<00:11,  6.82it/s]"
     ]
    },
    {
     "name": "stdout",
     "output_type": "stream",
     "text": [
      "Frame 338 written to video\n",
      "Frame 339 written to video\n"
     ]
    },
    {
     "name": "stderr",
     "output_type": "stream",
     "text": [
      " 82%|█████████████████████████████████▍       | 342/419 [00:51<00:11,  6.72it/s]"
     ]
    },
    {
     "name": "stdout",
     "output_type": "stream",
     "text": [
      "Frame 340 written to video\n",
      "Frame 341 written to video\n"
     ]
    },
    {
     "name": "stderr",
     "output_type": "stream",
     "text": [
      " 82%|█████████████████████████████████▋       | 344/419 [00:51<00:11,  6.77it/s]"
     ]
    },
    {
     "name": "stdout",
     "output_type": "stream",
     "text": [
      "Frame 342 written to video\n",
      "Frame 343 written to video\n"
     ]
    },
    {
     "name": "stderr",
     "output_type": "stream",
     "text": [
      " 83%|█████████████████████████████████▊       | 346/419 [00:51<00:10,  6.74it/s]"
     ]
    },
    {
     "name": "stdout",
     "output_type": "stream",
     "text": [
      "Frame 344 written to video\n",
      "Frame 345 written to video\n"
     ]
    },
    {
     "name": "stderr",
     "output_type": "stream",
     "text": [
      " 83%|██████████████████████████████████       | 348/419 [00:51<00:10,  6.70it/s]"
     ]
    },
    {
     "name": "stdout",
     "output_type": "stream",
     "text": [
      "Frame 346 written to video\n",
      "Frame 347 written to video\n"
     ]
    },
    {
     "name": "stderr",
     "output_type": "stream",
     "text": [
      " 84%|██████████████████████████████████▏      | 350/419 [00:52<00:10,  6.75it/s]"
     ]
    },
    {
     "name": "stdout",
     "output_type": "stream",
     "text": [
      "Frame 348 written to video\n",
      "Frame 349 written to video\n"
     ]
    },
    {
     "name": "stderr",
     "output_type": "stream",
     "text": [
      " 84%|██████████████████████████████████▍      | 352/419 [00:52<00:09,  6.80it/s]"
     ]
    },
    {
     "name": "stdout",
     "output_type": "stream",
     "text": [
      "Frame 350 written to video\n",
      "Frame 351 written to video\n"
     ]
    },
    {
     "name": "stderr",
     "output_type": "stream",
     "text": [
      " 84%|██████████████████████████████████▋      | 354/419 [00:52<00:09,  6.71it/s]"
     ]
    },
    {
     "name": "stdout",
     "output_type": "stream",
     "text": [
      "Frame 352 written to video\n",
      "Frame 353 written to video\n"
     ]
    },
    {
     "name": "stderr",
     "output_type": "stream",
     "text": [
      " 85%|██████████████████████████████████▊      | 356/419 [00:53<00:09,  6.67it/s]"
     ]
    },
    {
     "name": "stdout",
     "output_type": "stream",
     "text": [
      "Frame 354 written to video\n",
      "Frame 355 written to video\n"
     ]
    },
    {
     "name": "stderr",
     "output_type": "stream",
     "text": [
      " 85%|███████████████████████████████████      | 358/419 [00:53<00:09,  6.71it/s]"
     ]
    },
    {
     "name": "stdout",
     "output_type": "stream",
     "text": [
      "Frame 356 written to video\n",
      "Frame 357 written to video\n"
     ]
    },
    {
     "name": "stderr",
     "output_type": "stream",
     "text": [
      " 86%|███████████████████████████████████▏     | 360/419 [00:53<00:08,  6.66it/s]"
     ]
    },
    {
     "name": "stdout",
     "output_type": "stream",
     "text": [
      "Frame 358 written to video\n",
      "Frame 359 written to video\n"
     ]
    },
    {
     "name": "stderr",
     "output_type": "stream",
     "text": [
      " 86%|███████████████████████████████████▍     | 362/419 [00:54<00:08,  6.74it/s]"
     ]
    },
    {
     "name": "stdout",
     "output_type": "stream",
     "text": [
      "Frame 360 written to video\n",
      "Frame 361 written to video\n"
     ]
    },
    {
     "name": "stderr",
     "output_type": "stream",
     "text": [
      " 87%|███████████████████████████████████▌     | 364/419 [00:54<00:08,  6.81it/s]"
     ]
    },
    {
     "name": "stdout",
     "output_type": "stream",
     "text": [
      "Frame 362 written to video\n",
      "Frame 363 written to video\n"
     ]
    },
    {
     "name": "stderr",
     "output_type": "stream",
     "text": [
      " 87%|███████████████████████████████████▊     | 366/419 [00:54<00:07,  6.78it/s]"
     ]
    },
    {
     "name": "stdout",
     "output_type": "stream",
     "text": [
      "Frame 364 written to video\n",
      "Frame 365 written to video\n"
     ]
    },
    {
     "name": "stderr",
     "output_type": "stream",
     "text": [
      " 88%|████████████████████████████████████     | 368/419 [00:54<00:07,  6.83it/s]"
     ]
    },
    {
     "name": "stdout",
     "output_type": "stream",
     "text": [
      "Frame 366 written to video\n",
      "Frame 367 written to video\n"
     ]
    },
    {
     "name": "stderr",
     "output_type": "stream",
     "text": [
      " 88%|████████████████████████████████████▏    | 370/419 [00:55<00:07,  6.78it/s]"
     ]
    },
    {
     "name": "stdout",
     "output_type": "stream",
     "text": [
      "Frame 368 written to video\n",
      "Frame 369 written to video\n"
     ]
    },
    {
     "name": "stderr",
     "output_type": "stream",
     "text": [
      " 89%|████████████████████████████████████▍    | 372/419 [00:55<00:06,  6.80it/s]"
     ]
    },
    {
     "name": "stdout",
     "output_type": "stream",
     "text": [
      "Frame 370 written to video\n",
      "Frame 371 written to video\n"
     ]
    },
    {
     "name": "stderr",
     "output_type": "stream",
     "text": [
      " 89%|████████████████████████████████████▌    | 374/419 [00:55<00:06,  6.87it/s]"
     ]
    },
    {
     "name": "stdout",
     "output_type": "stream",
     "text": [
      "Frame 372 written to video\n",
      "Frame 373 written to video\n"
     ]
    },
    {
     "name": "stderr",
     "output_type": "stream",
     "text": [
      " 90%|████████████████████████████████████▊    | 376/419 [00:56<00:06,  6.86it/s]"
     ]
    },
    {
     "name": "stdout",
     "output_type": "stream",
     "text": [
      "Frame 374 written to video\n",
      "Frame 375 written to video\n"
     ]
    },
    {
     "name": "stderr",
     "output_type": "stream",
     "text": [
      " 90%|████████████████████████████████████▉    | 378/419 [00:56<00:05,  6.84it/s]"
     ]
    },
    {
     "name": "stdout",
     "output_type": "stream",
     "text": [
      "Frame 376 written to video\n",
      "Frame 377 written to video\n"
     ]
    },
    {
     "name": "stderr",
     "output_type": "stream",
     "text": [
      " 91%|█████████████████████████████████████▏   | 380/419 [00:56<00:05,  6.81it/s]"
     ]
    },
    {
     "name": "stdout",
     "output_type": "stream",
     "text": [
      "Frame 378 written to video\n",
      "Frame 379 written to video\n"
     ]
    },
    {
     "name": "stderr",
     "output_type": "stream",
     "text": [
      " 91%|█████████████████████████████████████▍   | 382/419 [00:56<00:05,  6.92it/s]"
     ]
    },
    {
     "name": "stdout",
     "output_type": "stream",
     "text": [
      "Frame 380 written to video\n",
      "Frame 381 written to video\n"
     ]
    },
    {
     "name": "stderr",
     "output_type": "stream",
     "text": [
      " 92%|█████████████████████████████████████▌   | 384/419 [00:57<00:05,  6.87it/s]"
     ]
    },
    {
     "name": "stdout",
     "output_type": "stream",
     "text": [
      "Frame 382 written to video\n",
      "Frame 383 written to video\n"
     ]
    },
    {
     "name": "stderr",
     "output_type": "stream",
     "text": [
      " 92%|█████████████████████████████████████▊   | 386/419 [00:57<00:04,  6.91it/s]"
     ]
    },
    {
     "name": "stdout",
     "output_type": "stream",
     "text": [
      "Frame 384 written to video\n",
      "Frame 385 written to video\n"
     ]
    },
    {
     "name": "stderr",
     "output_type": "stream",
     "text": [
      " 93%|█████████████████████████████████████▉   | 388/419 [00:57<00:04,  6.94it/s]"
     ]
    },
    {
     "name": "stdout",
     "output_type": "stream",
     "text": [
      "Frame 386 written to video\n",
      "Frame 387 written to video\n"
     ]
    },
    {
     "name": "stderr",
     "output_type": "stream",
     "text": [
      " 93%|██████████████████████████████████████▏  | 390/419 [00:58<00:04,  6.88it/s]"
     ]
    },
    {
     "name": "stdout",
     "output_type": "stream",
     "text": [
      "Frame 388 written to video\n",
      "Frame 389 written to video\n"
     ]
    },
    {
     "name": "stderr",
     "output_type": "stream",
     "text": [
      " 94%|██████████████████████████████████████▎  | 392/419 [00:58<00:03,  6.82it/s]"
     ]
    },
    {
     "name": "stdout",
     "output_type": "stream",
     "text": [
      "Frame 390 written to video\n",
      "Frame 391 written to video\n"
     ]
    },
    {
     "name": "stderr",
     "output_type": "stream",
     "text": [
      " 94%|██████████████████████████████████████▌  | 394/419 [00:58<00:03,  6.78it/s]"
     ]
    },
    {
     "name": "stdout",
     "output_type": "stream",
     "text": [
      "Frame 392 written to video\n",
      "Frame 393 written to video\n"
     ]
    },
    {
     "name": "stderr",
     "output_type": "stream",
     "text": [
      " 95%|██████████████████████████████████████▋  | 396/419 [00:59<00:03,  6.83it/s]"
     ]
    },
    {
     "name": "stdout",
     "output_type": "stream",
     "text": [
      "Frame 394 written to video\n",
      "Frame 395 written to video\n"
     ]
    },
    {
     "name": "stderr",
     "output_type": "stream",
     "text": [
      " 95%|██████████████████████████████████████▉  | 398/419 [00:59<00:03,  6.83it/s]"
     ]
    },
    {
     "name": "stdout",
     "output_type": "stream",
     "text": [
      "Frame 396 written to video\n",
      "Frame 397 written to video\n"
     ]
    },
    {
     "name": "stderr",
     "output_type": "stream",
     "text": [
      " 95%|███████████████████████████████████████▏ | 400/419 [00:59<00:02,  6.84it/s]"
     ]
    },
    {
     "name": "stdout",
     "output_type": "stream",
     "text": [
      "Frame 398 written to video\n",
      "Frame 399 written to video\n"
     ]
    },
    {
     "name": "stderr",
     "output_type": "stream",
     "text": [
      " 96%|███████████████████████████████████████▎ | 402/419 [00:59<00:02,  6.73it/s]"
     ]
    },
    {
     "name": "stdout",
     "output_type": "stream",
     "text": [
      "Frame 400 written to video\n",
      "Frame 401 written to video\n"
     ]
    },
    {
     "name": "stderr",
     "output_type": "stream",
     "text": [
      " 96%|███████████████████████████████████████▌ | 404/419 [01:00<00:02,  6.82it/s]"
     ]
    },
    {
     "name": "stdout",
     "output_type": "stream",
     "text": [
      "Frame 402 written to video\n",
      "Frame 403 written to video\n"
     ]
    },
    {
     "name": "stderr",
     "output_type": "stream",
     "text": [
      " 97%|███████████████████████████████████████▋ | 406/419 [01:00<00:01,  6.77it/s]"
     ]
    },
    {
     "name": "stdout",
     "output_type": "stream",
     "text": [
      "Frame 404 written to video\n",
      "Frame 405 written to video\n"
     ]
    },
    {
     "name": "stderr",
     "output_type": "stream",
     "text": [
      " 97%|███████████████████████████████████████▉ | 408/419 [01:00<00:01,  6.72it/s]"
     ]
    },
    {
     "name": "stdout",
     "output_type": "stream",
     "text": [
      "Frame 406 written to video\n",
      "Frame 407 written to video\n"
     ]
    },
    {
     "name": "stderr",
     "output_type": "stream",
     "text": [
      " 98%|████████████████████████████████████████ | 410/419 [01:01<00:01,  6.78it/s]"
     ]
    },
    {
     "name": "stdout",
     "output_type": "stream",
     "text": [
      "Frame 408 written to video\n",
      "Frame 409 written to video\n"
     ]
    },
    {
     "name": "stderr",
     "output_type": "stream",
     "text": [
      " 98%|████████████████████████████████████████▎| 412/419 [01:01<00:01,  6.83it/s]"
     ]
    },
    {
     "name": "stdout",
     "output_type": "stream",
     "text": [
      "Frame 410 written to video\n",
      "Frame 411 written to video\n"
     ]
    },
    {
     "name": "stderr",
     "output_type": "stream",
     "text": [
      " 99%|████████████████████████████████████████▌| 414/419 [01:01<00:00,  6.75it/s]"
     ]
    },
    {
     "name": "stdout",
     "output_type": "stream",
     "text": [
      "Frame 412 written to video\n",
      "Frame 413 written to video\n"
     ]
    },
    {
     "name": "stderr",
     "output_type": "stream",
     "text": [
      " 99%|████████████████████████████████████████▋| 416/419 [01:01<00:00,  6.69it/s]"
     ]
    },
    {
     "name": "stdout",
     "output_type": "stream",
     "text": [
      "Frame 414 written to video\n",
      "Frame 415 written to video\n"
     ]
    },
    {
     "name": "stderr",
     "output_type": "stream",
     "text": [
      "100%|████████████████████████████████████████▉| 418/419 [01:02<00:00,  6.74it/s]"
     ]
    },
    {
     "name": "stdout",
     "output_type": "stream",
     "text": [
      "Frame 416 written to video\n",
      "Frame 417 written to video\n"
     ]
    },
    {
     "name": "stderr",
     "output_type": "stream",
     "text": [
      "100%|█████████████████████████████████████████| 419/419 [01:02<00:00,  6.71it/s]"
     ]
    },
    {
     "name": "stdout",
     "output_type": "stream",
     "text": [
      "Frame 418 written to video\n",
      "Video saved to keypoints_flow_video.mp4\n"
     ]
    },
    {
     "name": "stderr",
     "output_type": "stream",
     "text": [
      "\n"
     ]
    }
   ],
   "source": [
    "import cv2\n",
    "import numpy as np\n",
    "from pathlib import Path\n",
    "from tqdm import tqdm\n",
    "\n",
    "# Paths to directories\n",
    "images_dir = Path(\"images\")\n",
    "keypoints_dir = Path(\"NewOutputs/Keypoints\")\n",
    "matches_dir = Path(\"NewOutputs/Matches\")\n",
    "\n",
    "# Output video path\n",
    "output_video_path = \"keypoints_flow_video.mp4\"\n",
    "\n",
    "# Load image paths\n",
    "image_paths = sorted(images_dir.glob(\"*.png\"))\n",
    "keypoints_path = sorted(keypoints_dir.glob(\"*.txt\"))\n",
    "matches_path = sorted(matches_dir.glob(\"*.txt\"))\n",
    "\n",
    "# Function to load keypoints from file\n",
    "def load_keypoints(filepath):\n",
    "    return np.loadtxt(filepath, dtype=float)\n",
    "\n",
    "# Function to load matches from file\n",
    "def load_matches(filepath):\n",
    "    return np.loadtxt(filepath, dtype=int)\n",
    "\n",
    "# Function to assign unique colors\n",
    "def generate_colors(num_colors):\n",
    "    np.random.seed(42)\n",
    "    return np.random.randint(0, 255, size=(num_colors, 3))\n",
    "\n",
    "# Initialize tracking data structures\n",
    "tracked_keypoints = {}\n",
    "\n",
    "# Initialize colors for keypoints\n",
    "num_colors = 2048  # Assuming a maximum of 2048 keypoints\n",
    "colors = generate_colors(num_colors)\n",
    "\n",
    "# Create a VideoWriter object\n",
    "frame = cv2.imread(str(image_paths[0]))\n",
    "height, width, _ = frame.shape\n",
    "video_writer = cv2.VideoWriter(output_video_path, cv2.VideoWriter_fourcc(*'mp4v'), 1, (width * 2, height))\n",
    "\n",
    "if not video_writer.isOpened():\n",
    "    print(\"Error: VideoWriter not opened\")\n",
    "    exit()\n",
    "\n",
    "# Iterate through image pairs\n",
    "for i in tqdm(range(len(image_paths) - 1)):\n",
    "\n",
    "    img1_path = image_paths[i]\n",
    "    img2_path = image_paths[i + 1]\n",
    "\n",
    "    # Load images\n",
    "    img1 = cv2.imread(str(img1_path))\n",
    "    img2 = cv2.imread(str(img2_path))\n",
    "\n",
    "    # Check if images are loaded correctly\n",
    "    if img1 is None:\n",
    "        print(f\"Failed to load image: {img1_path}\")\n",
    "        continue\n",
    "    if img2 is None:\n",
    "        print(f\"Failed to load image: {img2_path}\")\n",
    "        continue\n",
    "\n",
    "    # Load keypoints and matches\n",
    "    kp1 = load_keypoints(keypoints_path[i])\n",
    "    kp2 = load_keypoints(keypoints_path[i+1])\n",
    "    matches = load_matches(matches_path[i])\n",
    "\n",
    "    # Check if keypoints and matches are loaded correctly\n",
    "    if kp1.size == 0 or kp2.size == 0 or matches.size == 0:\n",
    "        print(f\"Failed to load keypoints or matches for images {i} and {i+1}\")\n",
    "        continue\n",
    "\n",
    "    # Update tracking information\n",
    "    new_tracked_keypoints = {}\n",
    "    for idx1, idx2 in matches:\n",
    "        pt1 = (int(kp1[idx1][0]), int(kp1[idx1][1]))\n",
    "        pt2 = (int(kp2[idx2][0]), int(kp2[idx2][1]))\n",
    "        \n",
    "        # Assign a unique color to the tracked keypoint\n",
    "        if idx1 not in tracked_keypoints:\n",
    "            color = colors[idx1 % num_colors]\n",
    "            tracked_keypoints[idx1] = (pt1, color)\n",
    "        else:\n",
    "            color = tracked_keypoints[idx1][1]\n",
    "\n",
    "        # Update new tracked keypoints\n",
    "        new_tracked_keypoints[idx2] = (pt2, color)\n",
    "\n",
    "    # Draw keypoints and matches\n",
    "    for pt, color in tracked_keypoints.values():\n",
    "        cv2.circle(img1, pt, 3, color.tolist(), -1)\n",
    "\n",
    "    for pt, color in new_tracked_keypoints.values():\n",
    "        cv2.circle(img2, pt, 3, color.tolist(), -1)\n",
    "\n",
    "    for (idx1, idx2) in matches:\n",
    "        pt1 = (int(kp1[idx1][0]), int(kp1[idx1][1]))\n",
    "        pt2 = (int(kp2[idx2][0]), int(kp2[idx2][1]))\n",
    "        color = tracked_keypoints[idx1][1]\n",
    "        cv2.line(img1, pt1, pt2, color.tolist(), 1)\n",
    "        cv2.line(img2, pt1, pt2, color.tolist(), 1)\n",
    "\n",
    "    # Combine images side by side\n",
    "    combined_image = np.hstack((img1, img2))\n",
    "\n",
    "    # Debug: Save the frame as an image for verification\n",
    "    cv2.imwrite(f\"frame_{i}.png\", combined_image)\n",
    "\n",
    "    # Write frame to video\n",
    "    video_writer.write(combined_image)\n",
    "\n",
    "    # Debug: Check if the frame is being written\n",
    "    print(f\"Frame {i} written to video\")\n",
    "\n",
    "    # Update tracked keypoints\n",
    "    tracked_keypoints = new_tracked_keypoints\n",
    "\n",
    "# Release the VideoWriter object\n",
    "video_writer.release()\n",
    "print(f\"Video saved to {output_video_path}\")\n"
   ]
  },
  {
   "cell_type": "code",
   "execution_count": 2,
   "id": "34a3b7bd",
   "metadata": {},
   "outputs": [
    {
     "name": "stderr",
     "output_type": "stream",
     "text": [
      "100%|█████████████████████████████████████████| 420/420 [00:32<00:00, 12.79it/s]"
     ]
    },
    {
     "name": "stdout",
     "output_type": "stream",
     "text": [
      "Video saved to keypoints_flow_video.mp4\n"
     ]
    },
    {
     "name": "stderr",
     "output_type": "stream",
     "text": [
      "\n"
     ]
    }
   ],
   "source": [
    "import cv2\n",
    "import numpy as np\n",
    "from pathlib import Path\n",
    "from tqdm import tqdm\n",
    "\n",
    "# Paths to directories\n",
    "images_dir = Path(\"images\")\n",
    "keypoints_dir = Path(\"NewOutputs/Keypoints\")\n",
    "matches_dir = Path(\"NewOutputs/Matches\")\n",
    "\n",
    "# Output video path\n",
    "output_video_path = \"keypoints_flow_video.mp4\"\n",
    "\n",
    "# Load image paths\n",
    "image_paths = sorted(images_dir.glob(\"*.png\"))\n",
    "keypoints_path = sorted(keypoints_dir.glob(\"*.txt\"))\n",
    "matches_path = sorted(matches_dir.glob(\"*.txt\"))\n",
    "\n",
    "# Function to load keypoints from file\n",
    "def load_keypoints(filepath):\n",
    "    return np.loadtxt(filepath, dtype=float)\n",
    "\n",
    "# Function to load matches from file\n",
    "def load_matches(filepath):\n",
    "    return np.loadtxt(filepath, dtype=int)\n",
    "\n",
    "# Function to assign unique colors\n",
    "def generate_colors(num_colors):\n",
    "    np.random.seed(42)\n",
    "    return np.random.randint(0, 255, size=(num_colors, 3))\n",
    "\n",
    "# Initialize tracking data structures\n",
    "tracked_keypoints = {}\n",
    "\n",
    "# Initialize colors for keypoints\n",
    "num_colors = 2048  # Assuming a maximum of 2048 keypoints\n",
    "colors = generate_colors(num_colors)\n",
    "\n",
    "# Create a VideoWriter object\n",
    "frame = cv2.imread(str(image_paths[0]))\n",
    "height, width, _ = frame.shape\n",
    "video_writer = cv2.VideoWriter(output_video_path, cv2.VideoWriter_fourcc(*'mp4v'), 1, (width, height))\n",
    "\n",
    "if not video_writer.isOpened():\n",
    "    print(\"Error: VideoWriter not opened\")\n",
    "    exit()\n",
    "\n",
    "# Iterate through image pairs\n",
    "for i in tqdm(range(len(image_paths))):\n",
    "\n",
    "    img_path = image_paths[i]\n",
    "\n",
    "    # Load images\n",
    "    img = cv2.imread(str(img_path))\n",
    "\n",
    "    # Check if images are loaded correctly\n",
    "    if img is None:\n",
    "        print(f\"Failed to load image: {img_path}\")\n",
    "        continue\n",
    "\n",
    "    # Load keypoints and matches\n",
    "    kp = load_keypoints(keypoints_path[i])\n",
    "\n",
    "    # Check if keypoints are loaded correctly\n",
    "    if kp.size == 0:\n",
    "        print(f\"Failed to load keypoints for image {i}\")\n",
    "        continue\n",
    "\n",
    "    # Draw keypoints\n",
    "    for idx, (x, y) in enumerate(kp):\n",
    "        cv2.circle(img, (int(x), int(y)), 3, colors[idx % num_colors].tolist(), -1)\n",
    "\n",
    "    # Draw trajectories\n",
    "    if i > 0:\n",
    "        prev_kp = load_keypoints(keypoints_path[i - 1])\n",
    "        matches = load_matches(matches_path[i - 1])\n",
    "        \n",
    "        for (idx1, idx2) in matches:\n",
    "            pt1 = (int(prev_kp[idx1][0]), int(prev_kp[idx1][1]))\n",
    "            pt2 = (int(kp[idx2][0]), int(kp[idx2][1]))\n",
    "            color = colors[idx1 % num_colors].tolist()\n",
    "            cv2.line(img, pt1, pt2, color, 2)\n",
    "\n",
    "    # Write frame to video\n",
    "    video_writer.write(img)\n",
    "\n",
    "    # Debug: Save the frame as an image for verification\n",
    "    cv2.imwrite(f\"frame_{i}.png\", img)\n",
    "\n",
    "# Release the VideoWriter object\n",
    "video_writer.release()\n",
    "print(f\"Video saved to {output_video_path}\")\n"
   ]
  },
  {
   "cell_type": "code",
   "execution_count": 7,
   "id": "7a56e42a",
   "metadata": {},
   "outputs": [
    {
     "name": "stderr",
     "output_type": "stream",
     "text": [
      "100%|█████████████████████████████████████████| 420/420 [00:51<00:00,  8.17it/s]"
     ]
    },
    {
     "name": "stdout",
     "output_type": "stream",
     "text": [
      "Video saved to keypoints_full_trajectory_video.mp4\n"
     ]
    },
    {
     "name": "stderr",
     "output_type": "stream",
     "text": [
      "\n"
     ]
    }
   ],
   "source": [
    "import cv2\n",
    "import numpy as np\n",
    "from pathlib import Path\n",
    "from tqdm import tqdm\n",
    "\n",
    "# Paths to directories\n",
    "images_dir = Path(\"images\")\n",
    "keypoints_dir = Path(\"NewOutputs/Keypoints\")\n",
    "matches_dir = Path(\"NewOutputs/Matches\")\n",
    "\n",
    "# Output video path\n",
    "output_video_path = \"keypoints_full_trajectory_video.mp4\"\n",
    "\n",
    "# Load image paths\n",
    "image_paths = sorted(images_dir.glob(\"*.png\"))\n",
    "keypoints_path = sorted(keypoints_dir.glob(\"*.txt\"))\n",
    "matches_path = sorted(matches_dir.glob(\"*.txt\"))\n",
    "\n",
    "# Function to load keypoints from file\n",
    "def load_keypoints(filepath):\n",
    "    return np.loadtxt(filepath, dtype=float)\n",
    "\n",
    "# Function to load matches from file\n",
    "def load_matches(filepath):\n",
    "    return np.loadtxt(filepath, dtype=int)\n",
    "\n",
    "# Function to assign unique colors\n",
    "def generate_colors(num_colors):\n",
    "    np.random.seed(42)\n",
    "    return np.random.randint(0, 255, size=(num_colors, 3))\n",
    "\n",
    "# Initialize colors for keypoints\n",
    "num_colors = 2048  # Assuming a maximum of 2048 keypoints\n",
    "colors = generate_colors(num_colors)\n",
    "\n",
    "# Create a VideoWriter object\n",
    "frame = cv2.imread(str(image_paths[0]))\n",
    "height, width, _ = frame.shape\n",
    "video_writer = cv2.VideoWriter(output_video_path, cv2.VideoWriter_fourcc(*'mp4v'), 5, (width, height))\n",
    "\n",
    "if not video_writer.isOpened():\n",
    "    print(\"Error: VideoWriter not opened\")\n",
    "    exit()\n",
    "\n",
    "# Initialize dictionary to keep track of keypoints trajectories\n",
    "trajectories = {}\n",
    "\n",
    "# Iterate through image pairs\n",
    "for i in tqdm(range(len(image_paths))):\n",
    "    img_path = image_paths[i]\n",
    "\n",
    "    # Load images\n",
    "    img = cv2.imread(str(img_path))\n",
    "\n",
    "    # Check if images are loaded correctly\n",
    "    if img is None:\n",
    "        print(f\"Failed to load image: {img_path}\")\n",
    "        continue\n",
    "\n",
    "    # Load keypoints\n",
    "    kp = load_keypoints(keypoints_path[i])\n",
    "\n",
    "    # Check if keypoints are loaded correctly\n",
    "    if kp.size == 0:\n",
    "        print(f\"Failed to load keypoints for image {i}\")\n",
    "        continue\n",
    "\n",
    "    # Initialize trajectories for the first frame\n",
    "    if i == 0:\n",
    "        for idx, (x, y) in enumerate(kp):\n",
    "            trajectories[idx] = [(int(x), int(y))]\n",
    "\n",
    "    # Update trajectories for subsequent frames\n",
    "    if i > 0:\n",
    "        prev_kp = load_keypoints(keypoints_path[i - 1])\n",
    "        matches = load_matches(matches_path[i - 1])\n",
    "        \n",
    "        new_trajectories = {}\n",
    "        for (idx1, idx2) in matches:\n",
    "            pt1 = (int(prev_kp[idx1][0]), int(prev_kp[idx1][1]))\n",
    "            pt2 = (int(kp[idx2][0]), int(kp[idx2][1]))\n",
    "            if idx1 in trajectories:\n",
    "                new_trajectories[idx2] = trajectories[idx1] + [pt2]\n",
    "            else:\n",
    "                new_trajectories[idx2] = [pt2]\n",
    "\n",
    "        trajectories = new_trajectories\n",
    "\n",
    "    # Draw keypoints\n",
    "    for idx, (x, y) in enumerate(kp):\n",
    "        cv2.circle(img, (int(x), int(y)), 3, colors[idx % num_colors].tolist(), -1)\n",
    "\n",
    "    # Draw trajectories\n",
    "    for idx, points in trajectories.items():\n",
    "        color = colors[idx % num_colors].tolist()\n",
    "        for j in range(len(points) - 1):\n",
    "            cv2.line(img, points[j], points[j + 1], color, 1)\n",
    "\n",
    "    # Write frame to video\n",
    "    video_writer.write(img)\n",
    "\n",
    "    # Debug: Save the frame as an image for verification\n",
    "    cv2.imwrite(f\"frame_{i}.png\", img)\n",
    "\n",
    "# Release the VideoWriter object\n",
    "video_writer.release()\n",
    "print(f\"Video saved to {output_video_path}\")\n"
   ]
  },
  {
   "cell_type": "code",
   "execution_count": null,
   "id": "1324ecd1",
   "metadata": {},
   "outputs": [],
   "source": []
  }
 ],
 "metadata": {
  "kernelspec": {
   "display_name": "Python 3 (ipykernel)",
   "language": "python",
   "name": "python3"
  },
  "language_info": {
   "codemirror_mode": {
    "name": "ipython",
    "version": 3
   },
   "file_extension": ".py",
   "mimetype": "text/x-python",
   "name": "python",
   "nbconvert_exporter": "python",
   "pygments_lexer": "ipython3",
   "version": "3.8.10"
  }
 },
 "nbformat": 4,
 "nbformat_minor": 5
}
